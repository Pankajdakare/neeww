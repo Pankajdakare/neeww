{
 "cells": [
  {
   "cell_type": "code",
   "execution_count": 1,
   "id": "35a16fb7-926c-467b-8eda-dc9120562fd8",
   "metadata": {},
   "outputs": [],
   "source": [
    "import pandas as pd\n",
    "\n",
    "# Read the CSV file\n",
    "df = pd.read_csv('C:\\\\ProgramData\\\\MySQL\\\\MySQL Server 8.0\\\\Uploads\\\\credit_card.csv')\n",
    "\n",
    "# Function to convert date format\n",
    "def convert_date_format(date_str):\n",
    "    return pd.to_datetime(date_str, format='%d-%m-%Y').strftime('%Y-%m-%d')\n",
    "\n",
    "# Apply the function to the 'Week_Start_Date' column\n",
    "df['Week_Start_Date'] = df['Week_Start_Date'].apply(convert_date_format)\n",
    "\n",
    "# Save the modified CSV file\n",
    "df.to_csv('C:\\\\ProgramData\\\\MySQL\\\\MySQL Server 8.0\\\\Uploads\\\\credit_card_modified.csv', index=False)\n"
   ]
  },
  {
   "cell_type": "code",
   "execution_count": null,
   "id": "d944bae7-2523-4dc6-8784-d4e71d733b72",
   "metadata": {},
   "outputs": [],
   "source": [
    " # LOAD DATA INFILE 'C:\\\\ProgramData\\\\MySQL\\\\MySQL Server 8.0\\\\Uploads\\\\credit_card_modified.csv'\n",
    " #    -> INTO TABLE cc_detail\n",
    " #    -> FIELDS TERMINATED BY ','\n",
    " #    -> ENCLOSED BY '\"'\n",
    " #    -> LINES TERMINATED BY '\\n'\n",
    " #    -> IGNORE 1 LINES;"
   ]
  }
 ],
 "metadata": {
  "kernelspec": {
   "display_name": "Python 3 (ipykernel)",
   "language": "python",
   "name": "python3"
  },
  "language_info": {
   "codemirror_mode": {
    "name": "ipython",
    "version": 3
   },
   "file_extension": ".py",
   "mimetype": "text/x-python",
   "name": "python",
   "nbconvert_exporter": "python",
   "pygments_lexer": "ipython3",
   "version": "3.12.0"
  }
 },
 "nbformat": 4,
 "nbformat_minor": 5
}
